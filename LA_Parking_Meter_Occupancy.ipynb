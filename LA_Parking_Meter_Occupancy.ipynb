{
 "cells": [
  {
   "cell_type": "code",
   "execution_count": null,
   "id": "2db3addb-9279-4df7-9405-948897a1a568",
   "metadata": {},
   "outputs": [],
   "source": [
    "import lonboard\n",
    "\n",
    "url = f\"https://www.fused.io/server/v1realtime-shared/344afc350f93638d4be1ec536d5f0aa29cfcb9776fd750a92e91118584dabbe3/run/tiles/{{z}}/{{x}}/{{y}}\"\n",
    "layer = lonboard.BitmapTileLayer(\n",
    "    data=url, tile_size=256, max_requests=-1, min_zoom=0, max_zoom=19\n",
    ")\n",
    "map = lonboard.Map(\n",
    "    layers=[layer],\n",
    "    _initial_view_state={\"longitude\": -118.2437,\n",
    "                         \"latitude\": 34.0522, \n",
    "                         \"zoom\": 10}\n",
    ")"
   ]
  },
  {
   "cell_type": "code",
   "execution_count": 16,
   "id": "d7711d76-52fc-4428-b5d9-b936f91a2d12",
   "metadata": {},
   "outputs": [
    {
     "data": {
      "application/vnd.jupyter.widget-view+json": {
       "model_id": "b3ec79b25fb347c697a7affe927e2d40",
       "version_major": 2,
       "version_minor": 1
      },
      "text/plain": [
       "Map(layers=[BitmapTileLayer(data='https://www.fused.io/server/v1realtime-shared/344afc350f93638d4be1ec536d5f0a…"
      ]
     },
     "execution_count": 16,
     "metadata": {},
     "output_type": "execute_result"
    }
   ],
   "source": [
    "import lonboard\n",
    "\n",
    "# Coordinates for Los Angeles\n",
    "la_longitude = -118.2437\n",
    "la_latitude = 34.0522\n",
    "\n",
    "# Define the map URL\n",
    "url = f\"https://www.fused.io/server/v1realtime-shared/344afc350f93638d4be1ec536d5f0aa29cfcb9776fd750a92e91118584dabbe3/run/tiles/{{z}}/{{x}}/{{y}}\"\n",
    "layer = lonboard.BitmapTileLayer(\n",
    "    data=url, tile_size=256, max_requests=-1, min_zoom=0, max_zoom=19\n",
    ")\n",
    "\n",
    "# Create the map object\n",
    "map = lonboard.Map(layers=[layer])\n",
    "\n",
    "# Set the center and zoom level for the LA area\n",
    "map.center = [la_longitude, la_latitude]  # Set center to LA coordinates\n",
    "map.zoom = 10  # Adjust zoom level for desired detail level\n"
   ]
  },
  {
   "cell_type": "code",
   "execution_count": null,
   "id": "0aed7276-df2a-442c-9e75-b3fff2cf779a",
   "metadata": {},
   "outputs": [],
   "source": []
  }
 ],
 "metadata": {
  "kernelspec": {
   "display_name": "Python 3 (ipykernel)",
   "language": "python",
   "name": "python3"
  },
  "language_info": {
   "codemirror_mode": {
    "name": "ipython",
    "version": 3
   },
   "file_extension": ".py",
   "mimetype": "text/x-python",
   "name": "python",
   "nbconvert_exporter": "python",
   "pygments_lexer": "ipython3",
   "version": "3.12.2"
  }
 },
 "nbformat": 4,
 "nbformat_minor": 5
}
